{
  "cells": [
    {
      "cell_type": "markdown",
      "metadata": {
        "id": "OiQEBNabNG0_"
      },
      "source": [
        "# **Homework**\n",
        "- Data: \n",
        "- Name: Pan-Yen, Huang"
      ]
    },
    {
      "cell_type": "markdown",
      "metadata": {
        "id": "d9wsHVSO3NAn"
      },
      "source": [
        "### **(1) A Phone Book**\n",
        "Write a problem that allows user to store and search contact information.\n",
        "Each entry of the contact information should contain the `name` and `phone`. As an example using `dict`, it would look like\n",
        "\n",
        "`\n",
        "{\n",
        "  \"name\": \"John\",\n",
        "  \"phone\": \"0987-654321,\n",
        "}\n",
        "`\n",
        "<br/><br/>\n",
        "You may use a `list` of `dict` as data structure of the phone book, or if you prefer, any other suitable data container to implement the phone book.\n",
        "As an example using `list` of `dict`, it would look like\n",
        "\n",
        "`\n",
        "[{\n",
        "  \"name\": \"John\",\n",
        "  \"phone\": \"0987-654321,\n",
        "}, {\n",
        "  \"name\": \"Andrew\",\n",
        "  \"phone\": \"0912-343531,\n",
        "}, {\n",
        "  \"name\": \"Catherine\",\n",
        "  \"phone\": \"0956-396471,\n",
        "}, ... ]\n",
        "`\n",
        "<br/><br/>\n",
        "**Requirements**\n",
        "1. Implement a function `add(name, phone)` which allows user to add an entry to the phone book.\n",
        "1. Implement a function `find(name=\"\", phone=\"\")` which allows user to search the phone book ***either*** by \"name\" or \"phone\".\n",
        "1. Implement a function `print_all()` which allows user to print the phone book. For each line, print one entry in the format of `\"name / phone number\"`.\n",
        "\n"
      ]
    },
    {
      "cell_type": "code",
      "execution_count": 11,
      "metadata": {
        "id": "_ou-ph3GNFGi"
      },
      "outputs": [],
      "source": [
        "class Phonebook:\n",
        "  def __init__(self, pb):\n",
        "    self.pb = pb\n",
        "    self.val_pb = pb.values() # values of pb\n",
        "\n",
        "  def add(self, name, phone):\n",
        "    self.pb[\"{}\".format(name)] = phone # add the new dict into pb\n",
        "    return self.pb\n",
        "\n",
        "  def find(self, key):\n",
        "    if key in self.pb: # key in pb.keys\n",
        "      print(\"{}'s phone is {}\".format(key, self.pb[key])) \n",
        "\n",
        "    elif key in self.val_pb: # key in pb.values\n",
        "      pb_ = {v : k for k, v in self.pb.items()} # change keys and values position\n",
        "      print(\"{}'s phone is {}\".format(pb_[key], key))\n",
        "      \n",
        "    else: # if type wrong key\n",
        "      print(\"{} is not in phone book!\".format(key))\n",
        "\n",
        "  def print_all(self):\n",
        "    for i,j in self.pb.items():\n",
        "      print(i, \"\\t/\", j)"
      ]
    },
    {
      "cell_type": "code",
      "execution_count": 12,
      "metadata": {
        "colab": {
          "base_uri": "https://localhost:8080/",
          "height": 57
        },
        "id": "UqE5aAkMSBY9",
        "outputId": "9aecae08-7946-4fe2-e8cc-cfc2296dd1b0"
      },
      "outputs": [
        {
          "name": "stdout",
          "output_type": "stream",
          "text": [
            "0800-092000 is not in phone book!\n",
            "Yen's phone is 0900-654321\n",
            "Andrew's phone is 0912-343531\n",
            "John \t/ 0987-654321\n",
            "Andrew \t/ 0912-343531\n",
            "Yen \t/ 0900-654321\n"
          ]
        }
      ],
      "source": [
        "phone_book = {\"John\": \"0987-654321\", \"Andrew\": \"0912-343531\"}\n",
        "pb = Phonebook(phone_book)\n",
        "\n",
        "pb.add(\"Yen\", \"0900-654321\")\n",
        "pb.find(\"0800-092000\")\n",
        "pb.find(\"Yen\")\n",
        "pb.find(\"0912-343531\")\n",
        "pb.print_all()\n"
      ]
    },
    {
      "cell_type": "markdown",
      "metadata": {
        "id": "x_chx3Jab5OW"
      },
      "source": [
        "### **(2) Find a missing number from a list**\n",
        "Use a function and write a python program to find a missing number from a list. \n",
        "\n",
        "Ex. `Input: [1, 2, 3, 5, 6, 7]`, `Output: 4`\n"
      ]
    },
    {
      "cell_type": "code",
      "execution_count": 9,
      "metadata": {
        "id": "Y7i4Qjcvb_dR"
      },
      "outputs": [],
      "source": [
        "def miss(li):\n",
        "  missing = []\n",
        "  for i in range(li[0], li[-1] + 1):\n",
        "      if i not in li:\n",
        "          missing.append(i)\n",
        "  print(missing)"
      ]
    },
    {
      "cell_type": "code",
      "execution_count": 10,
      "metadata": {
        "id": "Itwr8CW8daHE"
      },
      "outputs": [
        {
          "name": "stdout",
          "output_type": "stream",
          "text": [
            "[2, 3, 4, 7]\n"
          ]
        }
      ],
      "source": [
        "li = [1, 5, 8, 6, 9, 10, 11]\n",
        "miss(li)"
      ]
    },
    {
      "cell_type": "markdown",
      "metadata": {
        "id": "PYQmU6jueyC2"
      },
      "source": [
        "### **(3) Reverse a string**\n",
        "\n",
        "Write a function to reverse a string.\n",
        "\n",
        "Sample String : \"abcd4567\"\n",
        "\n",
        "Expected Output : \"7654dcba\""
      ]
    },
    {
      "cell_type": "code",
      "execution_count": 1,
      "metadata": {
        "id": "djz1lY9Te3Rc"
      },
      "outputs": [],
      "source": [
        "def rev(string):\n",
        "  rev_str = str()\n",
        "  for i in string:\n",
        "    rev_str = i + rev_str\n",
        "  print(rev_str)"
      ]
    },
    {
      "cell_type": "code",
      "execution_count": 4,
      "metadata": {
        "id": "di5ZwArafCw5"
      },
      "outputs": [
        {
          "name": "stdout",
          "output_type": "stream",
          "text": [
            "764dcba\n"
          ]
        }
      ],
      "source": [
        "string = \"abcd467\"\n",
        "rev(string)"
      ]
    },
    {
      "cell_type": "markdown",
      "metadata": {
        "id": "Rd67RPR2tVyi"
      },
      "source": [
        "### **(4) Calculate the harmonic sum**\n",
        "Harmonic series is inverse of a arithmetic progression. In general, the terms in a harmonic progression can be denoted as 1/a, 1/(a + d), 1/(a + 2d), 1/(a + 3d) …. 1/(a + nd). \n",
        "As Nth term of AP is given as ( a + (n – 1)d). Hence, Nth term of harmonic progression is reciprocal of Nth term of AP, which is 1/(a + (n – 1)d), where “a” is the 1st term of AP and “d” is a common difference.\n",
        "\n",
        "Example:\n",
        "\n",
        "![CodeCogsEqn.png](data:image/png;base64,iVBORw0KGgoAAAANSUhEUgAAALcAAAAlBAMAAADy7mXkAAAAMFBMVEX///8AAAAAAAAAAAAAAAAAAAAAAAAAAAAAAAAAAAAAAAAAAAAAAAAAAAAAAAAAAAAv3aB7AAAAD3RSTlMARM0yInYQiatmmbtU3e/6iv2wAAAACXBIWXMAAA7EAAAOxAGVKw4bAAAB5UlEQVRIDe2WPywDYRjGH3qOI1rMBmFglHSwcYvE2DCIhZvYkPhbBkJwEYkaGgkLE9FYxGTqbGSzWAwm8SeREEkdd9d63q+nHdqtt3zf83vf57nLm7uvBeRV1SFJS7cgClA9wuFJbehNFPr7RLgCVI+IyEkZjogIVwEUTy6Od0pjJfxnQJWx8GviqbKO5UXeMtIkiAKgeITDk/ri6wxXJnY7+StSgOrxE5SDwi+UYM0eFJYM0wsCFPT4H/eezDLkqBWAgp5K+O9U5eTKP5Z622637Wnn7hnnenbWU3uty95yNpEfkg/843Ha3av8T+7cp+BrBTnQIjz+QVHK8AFL28SAhexBUcrwXjP0gF7TG3y5xuLHj3ub4VTa3emWuxrJDQZAjwvgebTO5KVs8Tp4qTX1DyZxRGJMcMdau380mQSoxm6cc2kZ4VUmxjZrLc06UIUTWJHFqQST6BnrosMd2wVbgUEBEjJ8ZL9JtARJTf5CHxxxqwERrsdwyy2BqloMATi0qDkqw51qijqCRVwpNbQRSuQJH6WOQGHIB19H/fvfbuNk4Yb/IDSmMfa3I3jfCoOK2hfqnokAV6yrzSLHEjpuvmbrPCZjTGS4YekPoiO/DGcyn1ypmdthgJ6nWSbJJZOBq74BU4+MGZhA8tsAAAAASUVORK5CYII=)\n",
        "\n",
        "Write a function to calculate the harmonic sum of n-1.\n"
      ]
    },
    {
      "cell_type": "code",
      "execution_count": 7,
      "metadata": {
        "id": "lBaz4n6cttGV"
      },
      "outputs": [],
      "source": [
        "def sum(n):\n",
        "  s = 0.0\n",
        "  for i in range(n):\n",
        "      s = s + 1/(1 + i)\n",
        "  return(s)"
      ]
    },
    {
      "cell_type": "code",
      "execution_count": 8,
      "metadata": {
        "id": "nqASqdi1uc0I"
      },
      "outputs": [
        {
          "name": "stdout",
          "output_type": "stream",
          "text": [
            "2.7178571428571425\n"
          ]
        }
      ],
      "source": [
        "print(sum(8))"
      ]
    }
  ],
  "metadata": {
    "colab": {
      "collapsed_sections": [],
      "name": "「Practice」的副本",
      "provenance": []
    },
    "kernelspec": {
      "display_name": "Python 3.10.1 64-bit",
      "language": "python",
      "name": "python3"
    },
    "language_info": {
      "codemirror_mode": {
        "name": "ipython",
        "version": 3
      },
      "file_extension": ".py",
      "mimetype": "text/x-python",
      "name": "python",
      "nbconvert_exporter": "python",
      "pygments_lexer": "ipython3",
      "version": "3.10.1"
    },
    "vscode": {
      "interpreter": {
        "hash": "13585743fec55c46ef6300389264082e586968fe2f1340930745f1dccc294765"
      }
    }
  },
  "nbformat": 4,
  "nbformat_minor": 0
}
