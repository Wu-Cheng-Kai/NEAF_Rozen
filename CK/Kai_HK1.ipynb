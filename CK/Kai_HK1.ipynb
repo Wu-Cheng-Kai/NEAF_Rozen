{
  "nbformat": 4,
  "nbformat_minor": 0,
  "metadata": {
    "colab": {
      "name": "Kai_HK1",
      "provenance": [],
      "collapsed_sections": []
    },
    "kernelspec": {
      "name": "python3",
      "display_name": "Python 3"
    },
    "language_info": {
      "name": "python"
    }
  },
  "cells": [
    {
      "cell_type": "markdown",
      "metadata": {
        "id": "OiQEBNabNG0_"
      },
      "source": [
        "# **Homework**\n",
        "- Data: \n",
        "- Name: "
      ]
    },
    {
      "cell_type": "markdown",
      "metadata": {
        "id": "d9wsHVSO3NAn"
      },
      "source": [
        "### **(1) A Phone Book**\n",
        "Write a problem that allows user to store and search contact information.\n",
        "Each entry of the contact information should contain the `name` and `phone`. As an example using `dict`, it would look like\n",
        "\n",
        "`\n",
        "{\n",
        "  \"name\": \"John\",\n",
        "  \"phone\": \"0987-654321,\n",
        "}\n",
        "`\n",
        "<br/><br/>\n",
        "You may use a `list` of `dict` as data structure of the phone book, or if you prefer, any other suitable data container to implement the phone book.\n",
        "As an example using `list` of `dict`, it would look like\n",
        "\n",
        "`\n",
        "[{\n",
        "  \"name\": \"John\",\n",
        "  \"phone\": \"0987-654321,\n",
        "}, {\n",
        "  \"name\": \"Andrew\",\n",
        "  \"phone\": \"0912-343531,\n",
        "}, {\n",
        "  \"name\": \"Catherine\",\n",
        "  \"phone\": \"0956-396471,\n",
        "}, ... ]\n",
        "`\n",
        "<br/><br/>\n",
        "**Requirements**\n",
        "1. Implement a function `add(name, phone)` which allows user to add an entry to the phone book.\n",
        "1. Implement a function `find(name=\"\", phone=\"\")` which allows user to search the phone book ***either*** by \"name\" or \"phone\".\n",
        "1. Implement a function `print_all()` which allows user to print the phone book. For each line, print one entry in the format of `\"name / phone number\"`.\n",
        "\n"
      ]
    },
    {
      "cell_type": "code",
      "metadata": {
        "id": "_ou-ph3GNFGi"
      },
      "source": [
        "class Phonebook:\n",
        "  def __init__(self, pb):\n",
        "    self.pb = pb\n",
        "    self.val_pb = pb.values() # values of pb\n",
        "\n",
        "  def add(self, name, phone):\n",
        "    self.pb[\"{}\".format(name)] = phone # add the new dict into pb\n",
        "    return self.pb\n",
        "\n",
        "  def find(self, key):\n",
        "    if key in self.pb: # key in pb.keys\n",
        "      print(\"{}'s phone is {}\".format(key, self.pb[key])) \n",
        "\n",
        "    elif key in self.val_pb: # key in pb.values\n",
        "      pb_ = {v : k for k, v in self.pb.items()} # change keys and values position\n",
        "      print(\"{}'s phone is {}\".format(pb_[key], key))\n",
        "      \n",
        "    else: # if type wrong key\n",
        "      print(\"{} is not in phone book!\".format(key))\n",
        "\n",
        "  def print_all(self):\n",
        "    for i,j in self.pb.items():\n",
        "      print(i, \"\\t/\", j)"
      ],
      "execution_count": null,
      "outputs": []
    },
    {
      "cell_type": "code",
      "metadata": {
        "id": "UqE5aAkMSBY9",
        "outputId": "9aecae08-7946-4fe2-e8cc-cfc2296dd1b0",
        "colab": {
          "base_uri": "https://localhost:8080/",
          "height": 57
        }
      },
      "source": [
        "phone_book = {\"John\": \"0987-654321\", \"Andrew\": \"0912-343531\"}\n",
        "pb = Phonebook(phone_book)\n",
        "\"\"\"\n",
        "YOUR CODE HERE\n",
        "\"\"\""
      ],
      "execution_count": null,
      "outputs": [
        {
          "output_type": "execute_result",
          "data": {
            "text/plain": [
              "'\\nYOUR CODE HERE\\n'"
            ],
            "application/vnd.google.colaboratory.intrinsic+json": {
              "type": "string"
            }
          },
          "metadata": {},
          "execution_count": 2
        }
      ]
    },
    {
      "cell_type": "markdown",
      "metadata": {
        "id": "x_chx3Jab5OW"
      },
      "source": [
        "### **(2) Find a missing number from a list**\n",
        "Use a function and write a python program to find a missing number from a list. \n",
        "\n",
        "Ex. `Input: [1, 2, 3, 5, 6, 7]`, `Output: 4`\n"
      ]
    },
    {
      "cell_type": "code",
      "metadata": {
        "id": "Y7i4Qjcvb_dR"
      },
      "source": [
        "def miss(li):\n",
        "  li.sort()\n",
        "  misnum = []\n",
        "  for i in range(li[-1]):\n",
        "    if i+1 not in li:\n",
        "      print(i+1, end = \" \")\n",
        "  "
      ],
      "execution_count": 9,
      "outputs": []
    },
    {
      "cell_type": "code",
      "metadata": {
        "id": "Itwr8CW8daHE",
        "colab": {
          "base_uri": "https://localhost:8080/"
        },
        "outputId": "e6e745d7-e394-4516-ccc5-34dd0d1c4214"
      },
      "source": [
        "li = [1, 5, 8, 6, 9, 10, 11]\n",
        "miss(li)"
      ],
      "execution_count": 10,
      "outputs": [
        {
          "output_type": "stream",
          "name": "stdout",
          "text": [
            "2 3 4 7 "
          ]
        }
      ]
    },
    {
      "cell_type": "markdown",
      "metadata": {
        "id": "PYQmU6jueyC2"
      },
      "source": [
        "### **(3) Reverse a string**\n",
        "\n",
        "Write a function to reverse a string.\n",
        "\n",
        "Sample String : \"abcd4567\"\n",
        "\n",
        "Expected Output : \"7654dcba\""
      ]
    },
    {
      "cell_type": "code",
      "metadata": {
        "id": "djz1lY9Te3Rc"
      },
      "source": [
        "def rev(string):\n",
        "  print('\"', end = \"\")\n",
        "  for i in range(len(string)):\n",
        "    print(string[-i-1], end = \"\")\n",
        "  print('\"', end = \"\")"
      ],
      "execution_count": 7,
      "outputs": []
    },
    {
      "cell_type": "code",
      "metadata": {
        "id": "di5ZwArafCw5",
        "colab": {
          "base_uri": "https://localhost:8080/"
        },
        "outputId": "eaf21cc8-293a-46c1-e255-c6e4b51cf2a3"
      },
      "source": [
        "string = \"abcd467\"\n",
        "rev(string)"
      ],
      "execution_count": 8,
      "outputs": [
        {
          "output_type": "stream",
          "name": "stdout",
          "text": [
            "\"764dcba\""
          ]
        }
      ]
    },
    {
      "cell_type": "markdown",
      "metadata": {
        "id": "Rd67RPR2tVyi"
      },
      "source": [
        "### **(4) Calculate the harmonic sum**\n",
        "Harmonic series is inverse of a arithmetic progression. In general, the terms in a harmonic progression can be denoted as 1/a, 1/(a + d), 1/(a + 2d), 1/(a + 3d) …. 1/(a + nd). \n",
        "As Nth term of AP is given as ( a + (n – 1)d). Hence, Nth term of harmonic progression is reciprocal of Nth term of AP, which is 1/(a + (n – 1)d), where “a” is the 1st term of AP and “d” is a common difference.\n",
        "\n",
        "Example:\n",
        "\n",
        "![CodeCogsEqn.png](data:image/png;base64,iVBORw0KGgoAAAANSUhEUgAAALcAAAAlBAMAAADy7mXkAAAAMFBMVEX///8AAAAAAAAAAAAAAAAAAAAAAAAAAAAAAAAAAAAAAAAAAAAAAAAAAAAAAAAAAAAv3aB7AAAAD3RSTlMARM0yInYQiatmmbtU3e/6iv2wAAAACXBIWXMAAA7EAAAOxAGVKw4bAAAB5UlEQVRIDe2WPywDYRjGH3qOI1rMBmFglHSwcYvE2DCIhZvYkPhbBkJwEYkaGgkLE9FYxGTqbGSzWAwm8SeREEkdd9d63q+nHdqtt3zf83vf57nLm7uvBeRV1SFJS7cgClA9wuFJbehNFPr7RLgCVI+IyEkZjogIVwEUTy6Od0pjJfxnQJWx8GviqbKO5UXeMtIkiAKgeITDk/ri6wxXJnY7+StSgOrxE5SDwi+UYM0eFJYM0wsCFPT4H/eezDLkqBWAgp5K+O9U5eTKP5Z622637Wnn7hnnenbWU3uty95yNpEfkg/843Ha3av8T+7cp+BrBTnQIjz+QVHK8AFL28SAhexBUcrwXjP0gF7TG3y5xuLHj3ub4VTa3emWuxrJDQZAjwvgebTO5KVs8Tp4qTX1DyZxRGJMcMdau380mQSoxm6cc2kZ4VUmxjZrLc06UIUTWJHFqQST6BnrosMd2wVbgUEBEjJ8ZL9JtARJTf5CHxxxqwERrsdwyy2BqloMATi0qDkqw51qijqCRVwpNbQRSuQJH6WOQGHIB19H/fvfbuNk4Yb/IDSmMfa3I3jfCoOK2hfqnokAV6yrzSLHEjpuvmbrPCZjTGS4YekPoiO/DGcyn1ypmdthgJ6nWSbJJZOBq74BU4+MGZhA8tsAAAAASUVORK5CYII=)\n",
        "\n",
        "Write a function to calculate the harmonic sum of n-1.\n"
      ]
    },
    {
      "cell_type": "code",
      "metadata": {
        "id": "lBaz4n6cttGV"
      },
      "source": [
        "def sum(n):\n",
        "  if n == 0:\n",
        "    return 0\n",
        "  else:\n",
        "    term = sum(n-1)\n",
        "    h_sum = term + 1/n\n",
        "    return h_sum "
      ],
      "execution_count": 20,
      "outputs": []
    },
    {
      "cell_type": "code",
      "metadata": {
        "id": "nqASqdi1uc0I",
        "colab": {
          "base_uri": "https://localhost:8080/"
        },
        "outputId": "1c33f3cf-39fb-4c2a-ddf9-1ed0d0a20143"
      },
      "source": [
        "print(sum(8))"
      ],
      "execution_count": 25,
      "outputs": [
        {
          "output_type": "stream",
          "name": "stdout",
          "text": [
            "2.7178571428571425\n"
          ]
        }
      ]
    }
  ]
}